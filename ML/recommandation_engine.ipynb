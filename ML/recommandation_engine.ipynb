{
 "cells": [
  {
   "cell_type": "code",
   "execution_count": 1,
   "metadata": {},
   "outputs": [],
   "source": [
    "from pyspark.sql import SparkSession\n",
    "from pyspark import SparkContext\n",
    "spark2 = SparkSession.builder.appName('ml').getOrCreate()\n",
    "#Create a Spark Session\n",
    "SpSession = SparkSession \\\n",
    "    .builder \\\n",
    "    .master(\"local[2]\") \\\n",
    "    .appName(\"ml\") \\\n",
    "    .config(\"spark.executor.memory\", \"0.1g\") \\\n",
    "    .config(\"spark.cores.max\",\"2\") \\\n",
    "    .config(\"spark.sql.warehouse.dir\", \"/home/sushant/Projects/Spark_Project/temp\")\\\n",
    "    .getOrCreate()\n",
    "    \n",
    "#Get the Spark Context from Spark Session    \n",
    "SpContext = SpSession.sparkContext"
   ]
  },
  {
   "cell_type": "code",
   "execution_count": 2,
   "metadata": {},
   "outputs": [],
   "source": [
    "\n",
    "#Load the data file in ALS format (user, item, rating)\n",
    "ratingsData = SpContext.textFile(\"UserItemData.txt\")\n",
    "ratingsData.collect()\n",
    "\n",
    "#Convert the strings into a proper vector\n",
    "ratingVector=ratingsData.map(lambda l: l.split(','))\\\n",
    "        .map(lambda l:(int(l[0]), int(l[1]), float(l[2])))\n",
    "\n",
    "#Build a SQL Dataframe\n",
    "ratingsDf=SpSession.createDataFrame(ratingVector, \\\n",
    "            [\"user\",\"item\",\"rating\"])"
   ]
  },
  {
   "cell_type": "code",
   "execution_count": 3,
   "metadata": {},
   "outputs": [
    {
     "data": {
      "text/plain": [
       "[Row(user=1001, item=9004, prediction=-0.6144895553588867),\n",
       " Row(user=1001, item=9005, prediction=-3.166208505630493),\n",
       " Row(user=1001, item=9003, prediction=8.998315811157227)]"
      ]
     },
     "execution_count": 3,
     "metadata": {},
     "output_type": "execute_result"
    }
   ],
   "source": [
    "\n",
    "#build the model based on ALS\n",
    "from pyspark.ml.recommendation import ALS\n",
    "als = ALS(rank=10, maxIter=5)\n",
    "model = als.fit(ratingsDf)\n",
    "\n",
    "model.userFactors.orderBy(\"id\").collect()\n",
    "\n",
    "#Create a test data set of users and items you want ratings for\n",
    "testDf = SpSession.createDataFrame(   \\\n",
    "        [(1001, 9003),(1001,9004),(1001,9005)], \\\n",
    "        [\"user\",\"item\"])\n",
    "\n",
    "#Predict            \n",
    "predictions=(model.transform(testDf).collect())\n",
    "predictions\n"
   ]
  }
 ],
 "metadata": {
  "kernelspec": {
   "display_name": "Python 2",
   "language": "python",
   "name": "python2"
  },
  "language_info": {
   "codemirror_mode": {
    "name": "ipython",
    "version": 2
   },
   "file_extension": ".py",
   "mimetype": "text/x-python",
   "name": "python",
   "nbconvert_exporter": "python",
   "pygments_lexer": "ipython2",
   "version": "2.7.15+"
  }
 },
 "nbformat": 4,
 "nbformat_minor": 2
}
